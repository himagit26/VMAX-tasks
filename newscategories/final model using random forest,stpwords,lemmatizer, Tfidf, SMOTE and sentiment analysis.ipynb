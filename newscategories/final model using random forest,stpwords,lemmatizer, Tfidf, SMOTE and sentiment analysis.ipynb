{
 "cells": [
  {
   "cell_type": "code",
   "execution_count": 2,
   "id": "4d652597-3e8e-4a04-9648-459fd9ba8b67",
   "metadata": {},
   "outputs": [
    {
     "name": "stdout",
     "output_type": "stream",
     "text": [
      "Best Parameters: {'classifier__n_estimators': 200, 'classifier__min_samples_split': 2, 'classifier__max_depth': 30}\n",
      "Best Score: 0.8784806994743569\n",
      "                     precision    recall  f1-score   support\n",
      "\n",
      "ANTI GOVERNMENT ACT       0.86      0.86      0.86         7\n",
      "              ARSON       1.00      1.00      1.00         7\n",
      " COMMUNAL/RELIGIOUS       0.50      0.57      0.53         7\n",
      "        CYBER CRIME       0.67      0.67      0.67         3\n",
      "              JAILS       1.00      0.67      0.80         6\n",
      "              MAFIA       1.00      0.75      0.86         4\n",
      "             MURDER       0.60      0.75      0.67         4\n",
      "               NDPS       0.83      1.00      0.91         5\n",
      "               RAPE       0.67      1.00      0.80         2\n",
      "          TERRORISM       1.00      0.75      0.86         8\n",
      "      THEFT/ROBBERY       0.67      1.00      0.80         2\n",
      "\n",
      "           accuracy                           0.80        55\n",
      "          macro avg       0.80      0.82      0.80        55\n",
      "       weighted avg       0.83      0.80      0.80        55\n",
      "\n",
      "Predicted Label: COMMUNAL/RELIGIOUS\n"
     ]
    }
   ],
   "source": [
    "import pandas as pd\n",
    "import numpy as np\n",
    "import re\n",
    "from sklearn.feature_extraction.text import TfidfVectorizer\n",
    "from sklearn.model_selection import train_test_split, RandomizedSearchCV\n",
    "from sklearn.pipeline import Pipeline\n",
    "from sklearn.ensemble import RandomForestClassifier\n",
    "from sklearn.metrics import classification_report\n",
    "from nltk.corpus import stopwords\n",
    "from nltk.stem import WordNetLemmatizer\n",
    "from nltk.sentiment.vader import SentimentIntensityAnalyzer\n",
    "from imblearn.pipeline import Pipeline as IMBPipeline\n",
    "from imblearn.over_sampling import SMOTE\n",
    "\n",
    "# Load data\n",
    "data = pd.read_excel(r\"C:\\Users\\HEEMA SAMEERA\\OneDrive\\Desktop\\newsarticleswithcategories.xlsx\")\n",
    "\n",
    "# Preprocessing function\n",
    "stop_words = set(stopwords.words('english'))\n",
    "lemmatizer = WordNetLemmatizer()\n",
    "\n",
    "def preprocess(text):\n",
    "    text = text.lower()  # Lowercase\n",
    "    text = re.sub(r'[^\\w\\s]', '', text)  # Remove punctuation and special characters\n",
    "    tokens = text.split()  # Tokenization\n",
    "    tokens = [lemmatizer.lemmatize(token) for token in tokens if token not in stop_words]  # Remove stop words and lemmatize\n",
    "    return ' '.join(tokens)\n",
    "\n",
    "data['text'] = data['text'].apply(preprocess)\n",
    "\n",
    "# Feature extraction using TF-IDF\n",
    "vectorizer = TfidfVectorizer()\n",
    "tfidf_features = vectorizer.fit_transform(data['text'])\n",
    "\n",
    "# Sentiment analysis using NLTK VADER\n",
    "analyzer = SentimentIntensityAnalyzer()\n",
    "\n",
    "def sentiment_analysis(text):\n",
    "    sentiment_scores = analyzer.polarity_scores(text)\n",
    "    return sentiment_scores\n",
    "\n",
    "# Apply sentiment analysis\n",
    "data['sentiment'] = data['text'].apply(sentiment_analysis)\n",
    "\n",
    "# Convert sentiment scores to separate columns\n",
    "data = data.join(pd.json_normalize(data['sentiment']))\n",
    "\n",
    "# Drop the original 'sentiment' column\n",
    "data = data.drop(columns=['sentiment'])\n",
    "\n",
    "# Combine TF-IDF features with sentiment features\n",
    "sentiment_features = data[['neg', 'neu', 'pos', 'compound']].values\n",
    "X = np.hstack((tfidf_features.toarray(), sentiment_features))\n",
    "y = data['label']\n",
    "\n",
    "# Split data into training and testing sets\n",
    "X_train, X_test, y_train, y_test = train_test_split(X, y, test_size=0.2, random_state=42)\n",
    "\n",
    "# Define pipeline\n",
    "pipeline = IMBPipeline([\n",
    "    ('sampling', SMOTE(random_state=42)),  # Oversampling using SMOTE\n",
    "    ('classifier', RandomForestClassifier(random_state=42))  # Random Forest classifier\n",
    "])\n",
    "\n",
    "# Define parameter grid for hyperparameter tuning\n",
    "param_grid = {\n",
    "    'classifier__n_estimators': [50, 100, 200],\n",
    "    'classifier__max_depth': [None, 10, 20, 30],\n",
    "    'classifier__min_samples_split': [2, 5, 10]\n",
    "}\n",
    "\n",
    "# Perform Randomized Search for hyperparameter tuning\n",
    "random_search = RandomizedSearchCV(pipeline, param_distributions=param_grid, n_iter=20, cv=5, scoring='f1_weighted', random_state=42)\n",
    "random_search.fit(X_train, y_train)\n",
    "\n",
    "# Print best parameters and score\n",
    "print(\"Best Parameters:\", random_search.best_params_)\n",
    "print(\"Best Score:\", random_search.best_score_)\n",
    "\n",
    "# Generate the classification report\n",
    "y_pred = random_search.predict(X_test)\n",
    "print(classification_report(y_test, y_pred))\n",
    "\n",
    "# Sample text to test\n",
    "sample_text = \"Religion is a basic good for all human beings everywhere, therefore religious freedom is a universal human right. It is neither unfair nor parochial, but a requirement of justice.\"\n",
    "\n",
    "# Preprocess the sample text\n",
    "sample_text_processed = preprocess(sample_text)\n",
    "\n",
    "# Vectorize the preprocessed sample text\n",
    "sample_text_vectorized = vectorizer.transform([sample_text_processed])\n",
    "\n",
    "# Perform sentiment analysis on the sample text\n",
    "sample_sentiment = sentiment_analysis(sample_text_processed)\n",
    "sample_sentiment_features = np.array([[sample_sentiment['neg'], sample_sentiment['neu'], sample_sentiment['pos'], sample_sentiment['compound']]])\n",
    "\n",
    "# Combine TF-IDF features with sentiment features for the sample text\n",
    "sample_features = np.hstack((sample_text_vectorized.toarray(), sample_sentiment_features))\n",
    "\n",
    "# Predict the label of the sample text\n",
    "predicted_label = random_search.predict(sample_features)[0]\n",
    "print(\"Predicted Label:\", predicted_label)\n"
   ]
  },
  {
   "cell_type": "code",
   "execution_count": 3,
   "id": "b876a50a-6ca6-4c7b-a0c0-417d32b440a2",
   "metadata": {},
   "outputs": [
    {
     "name": "stdout",
     "output_type": "stream",
     "text": [
      "Confusion Matrix:\n",
      "[[6 0 1 0 0 0 0 0 0 0 0]\n",
      " [0 7 0 0 0 0 0 0 0 0 0]\n",
      " [1 0 4 1 0 0 1 0 0 0 0]\n",
      " [0 0 1 2 0 0 0 0 0 0 0]\n",
      " [0 0 0 0 4 0 1 0 1 0 0]\n",
      " [0 0 0 0 0 3 0 1 0 0 0]\n",
      " [0 0 0 0 0 0 3 0 0 0 1]\n",
      " [0 0 0 0 0 0 0 5 0 0 0]\n",
      " [0 0 0 0 0 0 0 0 2 0 0]\n",
      " [0 0 2 0 0 0 0 0 0 6 0]\n",
      " [0 0 0 0 0 0 0 0 0 0 2]]\n"
     ]
    }
   ],
   "source": [
    "from sklearn.metrics import confusion_matrix\n",
    "\n",
    "# Calculate confusion matrix\n",
    "conf_matrix = confusion_matrix(y_test, y_pred)\n",
    "\n",
    "print(\"Confusion Matrix:\")\n",
    "print(conf_matrix)\n"
   ]
  },
  {
   "cell_type": "code",
   "execution_count": 4,
   "id": "c3cbae0f-f7a1-4834-9dfc-8393236e23b5",
   "metadata": {},
   "outputs": [
    {
     "name": "stdout",
     "output_type": "stream",
     "text": [
      "Predicted Label: CYBER CRIME\n"
     ]
    }
   ],
   "source": [
    "# Sample text to test\n",
    "sample_text = \"Cyber attack everywhere.\"\n",
    "# Preprocess the sample text\n",
    "sample_text_processed = preprocess(sample_text)\n",
    "\n",
    "# Vectorize the preprocessed sample text\n",
    "sample_text_vectorized = vectorizer.transform([sample_text_processed])\n",
    "\n",
    "# Perform sentiment analysis on the sample text\n",
    "sample_sentiment = sentiment_analysis(sample_text_processed)\n",
    "sample_sentiment_features = np.array([[sample_sentiment['neg'], sample_sentiment['neu'], sample_sentiment['pos'], sample_sentiment['compound']]])\n",
    "\n",
    "# Combine TF-IDF features with sentiment features for the sample text\n",
    "sample_features = np.hstack((sample_text_vectorized.toarray(), sample_sentiment_features))\n",
    "\n",
    "# Predict the label of the sample text\n",
    "predicted_label = random_search.predict(sample_features)[0]\n",
    "print(\"Predicted Label:\", predicted_label)"
   ]
  },
  {
   "cell_type": "code",
   "execution_count": 5,
   "id": "662372e9",
   "metadata": {},
   "outputs": [
    {
     "name": "stdout",
     "output_type": "stream",
     "text": [
      "Predicted Label: RAPE\n"
     ]
    }
   ],
   "source": [
    "# Sample text to test\n",
    "sample_text = \"18 year old gang raped in hyd \"\n",
    "# Preprocess the sample text\n",
    "sample_text_processed = preprocess(sample_text)\n",
    "\n",
    "# Vectorize the preprocessed sample text\n",
    "sample_text_vectorized = vectorizer.transform([sample_text_processed])\n",
    "\n",
    "# Perform sentiment analysis on the sample text\n",
    "sample_sentiment = sentiment_analysis(sample_text_processed)\n",
    "sample_sentiment_features = np.array([[sample_sentiment['neg'], sample_sentiment['neu'], sample_sentiment['pos'], sample_sentiment['compound']]])\n",
    "\n",
    "# Combine TF-IDF features with sentiment features for the sample text\n",
    "sample_features = np.hstack((sample_text_vectorized.toarray(), sample_sentiment_features))\n",
    "\n",
    "# Predict the label of the sample text\n",
    "predicted_label = random_search.predict(sample_features)[0]\n",
    "print(\"Predicted Label:\", predicted_label)"
   ]
  },
  {
   "cell_type": "code",
   "execution_count": 6,
   "id": "59b22cd5-123e-4c4a-9647-c35a5c78ac09",
   "metadata": {},
   "outputs": [
    {
     "name": "stdout",
     "output_type": "stream",
     "text": [
      "Predicted Label: MURDER\n"
     ]
    }
   ],
   "source": [
    "# Sample text to test\n",
    "sample_text = \"knife kills uncle \"\n",
    "# Preprocess the sample text\n",
    "sample_text_processed = preprocess(sample_text)\n",
    "\n",
    "# Vectorize the preprocessed sample text\n",
    "sample_text_vectorized = vectorizer.transform([sample_text_processed])\n",
    "\n",
    "# Perform sentiment analysis on the sample text\n",
    "sample_sentiment = sentiment_analysis(sample_text_processed)\n",
    "sample_sentiment_features = np.array([[sample_sentiment['neg'], sample_sentiment['neu'], sample_sentiment['pos'], sample_sentiment['compound']]])\n",
    "\n",
    "# Combine TF-IDF features with sentiment features for the sample text\n",
    "sample_features = np.hstack((sample_text_vectorized.toarray(), sample_sentiment_features))\n",
    "\n",
    "# Predict the label of the sample text\n",
    "predicted_label = random_search.predict(sample_features)[0]\n",
    "print(\"Predicted Label:\", predicted_label)"
   ]
  },
  {
   "cell_type": "code",
   "execution_count": 7,
   "id": "7b51a588-05fb-4e17-9a33-a3691ee832dc",
   "metadata": {},
   "outputs": [
    {
     "name": "stdout",
     "output_type": "stream",
     "text": [
      "Predicted Label: NDPS\n"
     ]
    }
   ],
   "source": [
    "# Sample text to test\n",
    "sample_text = \"drugs found in the hitech city tunnel along with 12 other weapons \"\n",
    "# Preprocess the sample text\n",
    "sample_text_processed = preprocess(sample_text)\n",
    "\n",
    "# Vectorize the preprocessed sample text\n",
    "sample_text_vectorized = vectorizer.transform([sample_text_processed])\n",
    "\n",
    "# Perform sentiment analysis on the sample text\n",
    "sample_sentiment = sentiment_analysis(sample_text_processed)\n",
    "sample_sentiment_features = np.array([[sample_sentiment['neg'], sample_sentiment['neu'], sample_sentiment['pos'], sample_sentiment['compound']]])\n",
    "\n",
    "# Combine TF-IDF features with sentiment features for the sample text\n",
    "sample_features = np.hstack((sample_text_vectorized.toarray(), sample_sentiment_features))\n",
    "\n",
    "# Predict the label of the sample text\n",
    "predicted_label = random_search.predict(sample_features)[0]\n",
    "print(\"Predicted Label:\", predicted_label)"
   ]
  },
  {
   "cell_type": "code",
   "execution_count": 8,
   "id": "bb20f6ae",
   "metadata": {},
   "outputs": [
    {
     "name": "stdout",
     "output_type": "stream",
     "text": [
      "Predicted Label: TERRORISM\n"
     ]
    }
   ],
   "source": [
    "# Sample text to test\n",
    "sample_text = \"\"\"\n",
    "An Israeli strike on a school sheltering displaced Palestinians in central Gaza killed at least 33 people on Thursday. Following the attack, the Israel Defense Forces said Hamas terrorists were operating from within the school. Meanwhile, Qatar Foreign Ministry has said that Hamas has not yet handed mediators its response to the latest ceasefire proposal and is still studying it. Amid the ongoing war, Israeli Prime Minister Benjamin Netanyahu is set to address a joint meeting of Congress on July 24, The Associated Press reported, citing two people familiar with the matter. The war began after Hamas attacked Israel on October 7, killing around 1,200 people and capturing more than 250 hostages.At least 33 people were killed after Israel hit a Gaza school on Thursday. Video footage showed Palestinians hauling away bodies and scores of injured in a hospital after the attack, which took place at a sensitive moment in mediated talks on a ceasefire that would involve releasing hostages held by Hamas and some of the Palestinians held in Israeli jails. Following the strike, the Israeli military said the central Gaza compound was being used by terrorists. Addressing a press conference, an IDF spokesperson said those targeted were members of Hamas's elite Nukhba force and of the Palestinian Islamic Jihad terror group who \"directed terror attacks from the area of the school while exploiting it as a civilian location and as a shelter. The terrorists inside this school were planning more attacks against Israelis, some of them imminent.\" Meanwhile, the US State Department has said the country has been in contact with Israel about the strike at Gaza school. State Department spokesperson Matthew Miller also said that Washington expects Israel to be fully transparent in making information about the strike public. On Thursday, Qatari foreign ministry spokesperson Majed Al-Ansari said Hamas has not yet handed mediators its response to the latest ceasefire proposal and is still studying it, adding that Qatari, Egyptian and US mediators were still making efforts. Talks began on Wednesday when Central Intelligence Agency (CIA) director William Burns met senior officials from Qatar and Egypt in Doha to discuss a proposal that US President Joe Biden publicly endorsed last week. Russia and China, which hold veto powers in the United Nations Security Council, raised concerns on Thursday with a US draft resolution that would back a proposal - outlined by President Joe Biden - for a ceasefire between Israel and Hamas. The council's only Arab member, Algeria, also signalled it was not ready to back the text, diplomats said. A resolution needs at least nine votes in favour and no vetoes by the US, France, Britain, China or Russia to pass. Benjamin Netanyahu is set to address a joint meeting of Congress on July 24, The Associated Press quoted two people familiar with the matter as saying. Last week, Congressional leaders formally invited Netanyahu to come speak. However, the date of the speech had been in flux. According to news agency Reuters, Netanyahu, over his upcoming speech, said he was \"very moved to have the privilege of representing Israel before both Houses of Congress and to present the truth about our just war.\" On Thursday, Israeli forces killed three Palestinians and injured at least 13 others in a raid on the occupied West Bank city of Jenin, Reuters quoted the Palestinian Health Ministry and medics as saying. The Palestine Red Crescent Society said it was treating at least six people who\n",
    "\"\"\"\n",
    "# Preprocess the sample text\n",
    "sample_text_processed = preprocess(sample_text)\n",
    "\n",
    "# Vectorize the preprocessed sample text\n",
    "sample_text_vectorized = vectorizer.transform([sample_text_processed])\n",
    "\n",
    "# Perform sentiment analysis on the sample text\n",
    "sample_sentiment = sentiment_analysis(sample_text_processed)\n",
    "sample_sentiment_features = np.array([[sample_sentiment['neg'], sample_sentiment['neu'], sample_sentiment['pos'], sample_sentiment['compound']]])\n",
    "\n",
    "# Combine TF-IDF features with sentiment features for the sample text\n",
    "sample_features = np.hstack((sample_text_vectorized.toarray(), sample_sentiment_features))\n",
    "\n",
    "# Predict the label of the sample text\n",
    "predicted_label = random_search.predict(sample_features)[0]\n",
    "print(\"Predicted Label:\", predicted_label)"
   ]
  },
  {
   "cell_type": "code",
   "execution_count": 9,
   "id": "637d0dc4-351d-4294-9064-1eb2702790f0",
   "metadata": {},
   "outputs": [
    {
     "name": "stdout",
     "output_type": "stream",
     "text": [
      "Predicted Label: CYBER CRIME\n"
     ]
    }
   ],
   "source": [
    "# Sample text to test\n",
    "sample_text = \"\"\"\n",
    "A group of hackers launched an attack on the government's website yesterday. The attack caused significant disruption to online services, leading to concerns about the security of sensitive information.\n",
    "\"\"\"\n",
    "# Preprocess the sample text\n",
    "sample_text_processed = preprocess(sample_text)\n",
    "\n",
    "# Vectorize the preprocessed sample text\n",
    "sample_text_vectorized = vectorizer.transform([sample_text_processed])\n",
    "\n",
    "# Perform sentiment analysis on the sample text\n",
    "sample_sentiment = sentiment_analysis(sample_text_processed)\n",
    "sample_sentiment_features = np.array([[sample_sentiment['neg'], sample_sentiment['neu'], sample_sentiment['pos'], sample_sentiment['compound']]])\n",
    "\n",
    "# Combine TF-IDF features with sentiment features for the sample text\n",
    "sample_features = np.hstack((sample_text_vectorized.toarray(), sample_sentiment_features))\n",
    "\n",
    "# Predict the label of the sample text\n",
    "predicted_label = random_search.predict(sample_features)[0]\n",
    "print(\"Predicted Label:\", predicted_label)"
   ]
  },
  {
   "cell_type": "code",
   "execution_count": 10,
   "id": "9d7d4b85-7dcc-44fe-834d-7617ed006970",
   "metadata": {},
   "outputs": [
    {
     "name": "stdout",
     "output_type": "stream",
     "text": [
      "Predicted Label: TERRORISM\n"
     ]
    }
   ],
   "source": [
    "# Sample text to test\n",
    "sample_text = '''Gaza, June 7 (UNI) The Palestinian mayor of central Gaza's Nuseirat refugee camp, Iyad al-Mughari, was killed in an Israeli airstrike on Thursday, Palestinian medical and security sources said. Palestinian security sources told Xinhua that the mayor was killed, along with a number of his family members, as an Israeli attack targeted a building in the camp. Medical sources said al-Mughari's body was transferred to al-Aqsa Hospital in Deir al-Balah city in central Gaza. Al-Mughari, one of the cadres of the Hamas movement, was appointed mayor by acclamation, the sources noted. The killing of al-Mughari came hours after the killing of about 35 Palestinians in an Israeli attack on a school affiliated with the United Nations Relief and Works Agency for Palestine Refugees in the Near East, which was housing displaced people in the Nuseirat camp. Israel said Hamas and Islamic Jihad \"terrorists\" were embedded themselves inside the school, and a number of steps had been taken to reduce the risk of harming uninvolved civilians. The Israeli army has been conducting a large-scale offensive on Gaza since Oct. 7, 2023, after Hamas carried out an unprecedented attack on the Israeli towns adjacent to the strip, during which approximately 1,200 people were killed and about 250 others were taken hostage. The Palestinian death toll from the ongoing Israeli attacks in the enclave has risen to 36,654, with 83,309 people injured, updated the Gaza health authorities on Thursday. UNI XINHUA GNK'''\n",
    "# Preprocess the sample text\n",
    "sample_text_processed = preprocess(sample_text)\n",
    "\n",
    "# Vectorize the preprocessed sample text\n",
    "sample_text_vectorized = vectorizer.transform([sample_text_processed])\n",
    "\n",
    "# Perform sentiment analysis on the sample text\n",
    "sample_sentiment = sentiment_analysis(sample_text_processed)\n",
    "sample_sentiment_features = np.array([[sample_sentiment['neg'], sample_sentiment['neu'], sample_sentiment['pos'], sample_sentiment['compound']]])\n",
    "\n",
    "# Combine TF-IDF features with sentiment features for the sample text\n",
    "sample_features = np.hstack((sample_text_vectorized.toarray(), sample_sentiment_features))\n",
    "\n",
    "# Predict the label of the sample text\n",
    "predicted_label = random_search.predict(sample_features)[0]\n",
    "print(\"Predicted Label:\", predicted_label)"
   ]
  }
 ],
 "metadata": {
  "kernelspec": {
   "display_name": "Python 3 (ipykernel)",
   "language": "python",
   "name": "python3"
  },
  "language_info": {
   "codemirror_mode": {
    "name": "ipython",
    "version": 3
   },
   "file_extension": ".py",
   "mimetype": "text/x-python",
   "name": "python",
   "nbconvert_exporter": "python",
   "pygments_lexer": "ipython3",
   "version": "3.11.7"
  }
 },
 "nbformat": 4,
 "nbformat_minor": 5
}
